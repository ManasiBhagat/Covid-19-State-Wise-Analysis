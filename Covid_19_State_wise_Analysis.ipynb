{
  "nbformat": 4,
  "nbformat_minor": 0,
  "metadata": {
    "colab": {
      "name": "Covid_19_State_wise_ Analysis.ipynb",
      "provenance": [],
      "collapsed_sections": [],
      "toc_visible": true
    },
    "kernelspec": {
      "name": "python3",
      "display_name": "Python 3"
    },
    "language_info": {
      "name": "python"
    }
  },
  "cells": [
    {
      "cell_type": "code",
      "metadata": {
        "id": "yPAkRHCQrMrx"
      },
      "source": [
        "#Importing Libraries\n",
        "import pandas as pd\n",
        "import matplotlib.pyplot as plt\n",
        "import seaborn as sns"
      ],
      "execution_count": null,
      "outputs": []
    },
    {
      "cell_type": "code",
      "metadata": {
        "colab": {
          "base_uri": "https://localhost:8080/",
          "height": 402
        },
        "id": "n48OyMPcrYyU",
        "outputId": "3f51bdab-80ab-4aa7-f16c-36ab59cb4d63"
      },
      "source": [
        "#Importing Dataset\n",
        "data_set = pd.read_csv('covid_19_india.csv')\n",
        "data_set"
      ],
      "execution_count": null,
      "outputs": [
        {
          "output_type": "execute_result",
          "data": {
            "text/html": [
              "<div>\n",
              "<style scoped>\n",
              "    .dataframe tbody tr th:only-of-type {\n",
              "        vertical-align: middle;\n",
              "    }\n",
              "\n",
              "    .dataframe tbody tr th {\n",
              "        vertical-align: top;\n",
              "    }\n",
              "\n",
              "    .dataframe thead th {\n",
              "        text-align: right;\n",
              "    }\n",
              "</style>\n",
              "<table border=\"1\" class=\"dataframe\">\n",
              "  <thead>\n",
              "    <tr style=\"text-align: right;\">\n",
              "      <th></th>\n",
              "      <th>Date</th>\n",
              "      <th>State/UnionTerritory</th>\n",
              "      <th>Cured</th>\n",
              "      <th>Deaths</th>\n",
              "      <th>Confirmed</th>\n",
              "    </tr>\n",
              "  </thead>\n",
              "  <tbody>\n",
              "    <tr>\n",
              "      <th>0</th>\n",
              "      <td>30-01-20</td>\n",
              "      <td>Kerala</td>\n",
              "      <td>0</td>\n",
              "      <td>0</td>\n",
              "      <td>1</td>\n",
              "    </tr>\n",
              "    <tr>\n",
              "      <th>1</th>\n",
              "      <td>31-01-20</td>\n",
              "      <td>Kerala</td>\n",
              "      <td>0</td>\n",
              "      <td>0</td>\n",
              "      <td>1</td>\n",
              "    </tr>\n",
              "    <tr>\n",
              "      <th>2</th>\n",
              "      <td>01-02-20</td>\n",
              "      <td>Kerala</td>\n",
              "      <td>0</td>\n",
              "      <td>0</td>\n",
              "      <td>2</td>\n",
              "    </tr>\n",
              "    <tr>\n",
              "      <th>3</th>\n",
              "      <td>02-02-20</td>\n",
              "      <td>Kerala</td>\n",
              "      <td>0</td>\n",
              "      <td>0</td>\n",
              "      <td>3</td>\n",
              "    </tr>\n",
              "    <tr>\n",
              "      <th>4</th>\n",
              "      <td>03-02-20</td>\n",
              "      <td>Kerala</td>\n",
              "      <td>0</td>\n",
              "      <td>0</td>\n",
              "      <td>3</td>\n",
              "    </tr>\n",
              "    <tr>\n",
              "      <th>...</th>\n",
              "      <td>...</td>\n",
              "      <td>...</td>\n",
              "      <td>...</td>\n",
              "      <td>...</td>\n",
              "      <td>...</td>\n",
              "    </tr>\n",
              "    <tr>\n",
              "      <th>14334</th>\n",
              "      <td>30-04-21</td>\n",
              "      <td>Telangana</td>\n",
              "      <td>355618</td>\n",
              "      <td>2261</td>\n",
              "      <td>435606</td>\n",
              "    </tr>\n",
              "    <tr>\n",
              "      <th>14335</th>\n",
              "      <td>30-04-21</td>\n",
              "      <td>Tripura</td>\n",
              "      <td>33612</td>\n",
              "      <td>396</td>\n",
              "      <td>35169</td>\n",
              "    </tr>\n",
              "    <tr>\n",
              "      <th>14336</th>\n",
              "      <td>30-04-21</td>\n",
              "      <td>Uttarakhand</td>\n",
              "      <td>124046</td>\n",
              "      <td>2502</td>\n",
              "      <td>174867</td>\n",
              "    </tr>\n",
              "    <tr>\n",
              "      <th>14337</th>\n",
              "      <td>30-04-21</td>\n",
              "      <td>Uttar Pradesh</td>\n",
              "      <td>896477</td>\n",
              "      <td>12238</td>\n",
              "      <td>1217952</td>\n",
              "    </tr>\n",
              "    <tr>\n",
              "      <th>14338</th>\n",
              "      <td>30-04-21</td>\n",
              "      <td>West Bengal</td>\n",
              "      <td>689466</td>\n",
              "      <td>11248</td>\n",
              "      <td>810955</td>\n",
              "    </tr>\n",
              "  </tbody>\n",
              "</table>\n",
              "<p>14339 rows × 5 columns</p>\n",
              "</div>"
            ],
            "text/plain": [
              "           Date State/UnionTerritory   Cured  Deaths  Confirmed\n",
              "0      30-01-20               Kerala       0       0          1\n",
              "1      31-01-20               Kerala       0       0          1\n",
              "2      01-02-20               Kerala       0       0          2\n",
              "3      02-02-20               Kerala       0       0          3\n",
              "4      03-02-20               Kerala       0       0          3\n",
              "...         ...                  ...     ...     ...        ...\n",
              "14334  30-04-21            Telangana  355618    2261     435606\n",
              "14335  30-04-21              Tripura   33612     396      35169\n",
              "14336  30-04-21          Uttarakhand  124046    2502     174867\n",
              "14337  30-04-21        Uttar Pradesh  896477   12238    1217952\n",
              "14338  30-04-21          West Bengal  689466   11248     810955\n",
              "\n",
              "[14339 rows x 5 columns]"
            ]
          },
          "metadata": {
            "tags": []
          },
          "execution_count": 3
        }
      ]
    },
    {
      "cell_type": "code",
      "metadata": {
        "colab": {
          "base_uri": "https://localhost:8080/",
          "height": 284
        },
        "id": "HlgWftmarzfo",
        "outputId": "ca35d8bc-338b-48b6-cdac-c013ea2da567"
      },
      "source": [
        "#Describing Dataset\n",
        "data_set.describe()"
      ],
      "execution_count": null,
      "outputs": [
        {
          "output_type": "execute_result",
          "data": {
            "text/html": [
              "<div>\n",
              "<style scoped>\n",
              "    .dataframe tbody tr th:only-of-type {\n",
              "        vertical-align: middle;\n",
              "    }\n",
              "\n",
              "    .dataframe tbody tr th {\n",
              "        vertical-align: top;\n",
              "    }\n",
              "\n",
              "    .dataframe thead th {\n",
              "        text-align: right;\n",
              "    }\n",
              "</style>\n",
              "<table border=\"1\" class=\"dataframe\">\n",
              "  <thead>\n",
              "    <tr style=\"text-align: right;\">\n",
              "      <th></th>\n",
              "      <th>Cured</th>\n",
              "      <th>Deaths</th>\n",
              "      <th>Confirmed</th>\n",
              "    </tr>\n",
              "  </thead>\n",
              "  <tbody>\n",
              "    <tr>\n",
              "      <th>count</th>\n",
              "      <td>1.433900e+04</td>\n",
              "      <td>14339.000000</td>\n",
              "      <td>1.433900e+04</td>\n",
              "    </tr>\n",
              "    <tr>\n",
              "      <th>mean</th>\n",
              "      <td>1.591032e+05</td>\n",
              "      <td>2536.206151</td>\n",
              "      <td>1.745411e+05</td>\n",
              "    </tr>\n",
              "    <tr>\n",
              "      <th>std</th>\n",
              "      <td>3.216040e+05</td>\n",
              "      <td>6736.328875</td>\n",
              "      <td>3.539566e+05</td>\n",
              "    </tr>\n",
              "    <tr>\n",
              "      <th>min</th>\n",
              "      <td>0.000000e+00</td>\n",
              "      <td>0.000000</td>\n",
              "      <td>0.000000e+00</td>\n",
              "    </tr>\n",
              "    <tr>\n",
              "      <th>25%</th>\n",
              "      <td>1.427000e+03</td>\n",
              "      <td>11.000000</td>\n",
              "      <td>2.492500e+03</td>\n",
              "    </tr>\n",
              "    <tr>\n",
              "      <th>50%</th>\n",
              "      <td>1.721200e+04</td>\n",
              "      <td>337.000000</td>\n",
              "      <td>2.259800e+04</td>\n",
              "    </tr>\n",
              "    <tr>\n",
              "      <th>75%</th>\n",
              "      <td>1.892685e+05</td>\n",
              "      <td>1944.000000</td>\n",
              "      <td>2.131395e+05</td>\n",
              "    </tr>\n",
              "    <tr>\n",
              "      <th>max</th>\n",
              "      <td>3.799266e+06</td>\n",
              "      <td>67985.000000</td>\n",
              "      <td>4.539553e+06</td>\n",
              "    </tr>\n",
              "  </tbody>\n",
              "</table>\n",
              "</div>"
            ],
            "text/plain": [
              "              Cured        Deaths     Confirmed\n",
              "count  1.433900e+04  14339.000000  1.433900e+04\n",
              "mean   1.591032e+05   2536.206151  1.745411e+05\n",
              "std    3.216040e+05   6736.328875  3.539566e+05\n",
              "min    0.000000e+00      0.000000  0.000000e+00\n",
              "25%    1.427000e+03     11.000000  2.492500e+03\n",
              "50%    1.721200e+04    337.000000  2.259800e+04\n",
              "75%    1.892685e+05   1944.000000  2.131395e+05\n",
              "max    3.799266e+06  67985.000000  4.539553e+06"
            ]
          },
          "metadata": {
            "tags": []
          },
          "execution_count": 4
        }
      ]
    },
    {
      "cell_type": "code",
      "metadata": {
        "colab": {
          "base_uri": "https://localhost:8080/"
        },
        "id": "B8SYmCDHsFfX",
        "outputId": "b6cb27b9-0722-4302-ce15-b7cc3aa09f42"
      },
      "source": [
        "#Use to see shape of the dataset\n",
        "data_set.shape"
      ],
      "execution_count": null,
      "outputs": [
        {
          "output_type": "execute_result",
          "data": {
            "text/plain": [
              "(14339, 5)"
            ]
          },
          "metadata": {
            "tags": []
          },
          "execution_count": 6
        }
      ]
    },
    {
      "cell_type": "code",
      "metadata": {
        "colab": {
          "base_uri": "https://localhost:8080/"
        },
        "id": "mEGO50Q7s79k",
        "outputId": "f4278fab-21aa-472d-e835-761919d06d60"
      },
      "source": [
        "#Dimension of the dataset\n",
        "data_set.ndim"
      ],
      "execution_count": null,
      "outputs": [
        {
          "output_type": "execute_result",
          "data": {
            "text/plain": [
              "2"
            ]
          },
          "metadata": {
            "tags": []
          },
          "execution_count": 7
        }
      ]
    },
    {
      "cell_type": "code",
      "metadata": {
        "colab": {
          "base_uri": "https://localhost:8080/"
        },
        "id": "Kt3irLVXs_63",
        "outputId": "db3f247f-607e-4fcb-9811-3a1ba89a1ddd"
      },
      "source": [
        "#Data types of columns in dataset\n",
        "data_set.dtypes"
      ],
      "execution_count": null,
      "outputs": [
        {
          "output_type": "execute_result",
          "data": {
            "text/plain": [
              "Date                    object\n",
              "State/UnionTerritory    object\n",
              "Cured                    int64\n",
              "Deaths                   int64\n",
              "Confirmed                int64\n",
              "dtype: object"
            ]
          },
          "metadata": {
            "tags": []
          },
          "execution_count": 8
        }
      ]
    },
    {
      "cell_type": "code",
      "metadata": {
        "colab": {
          "base_uri": "https://localhost:8080/",
          "height": 1000
        },
        "id": "De2qn1XxkgHK",
        "outputId": "2d99de7a-562c-46b8-8778-f0dbf1008615"
      },
      "source": [
        "#Used to get the total values in dataset.\n",
        "total_count_data = data_set.tail(36)\n",
        "total_count_data"
      ],
      "execution_count": null,
      "outputs": [
        {
          "output_type": "execute_result",
          "data": {
            "text/html": [
              "<div>\n",
              "<style scoped>\n",
              "    .dataframe tbody tr th:only-of-type {\n",
              "        vertical-align: middle;\n",
              "    }\n",
              "\n",
              "    .dataframe tbody tr th {\n",
              "        vertical-align: top;\n",
              "    }\n",
              "\n",
              "    .dataframe thead th {\n",
              "        text-align: right;\n",
              "    }\n",
              "</style>\n",
              "<table border=\"1\" class=\"dataframe\">\n",
              "  <thead>\n",
              "    <tr style=\"text-align: right;\">\n",
              "      <th></th>\n",
              "      <th>Date</th>\n",
              "      <th>State/UnionTerritory</th>\n",
              "      <th>Cured</th>\n",
              "      <th>Deaths</th>\n",
              "      <th>Confirmed</th>\n",
              "    </tr>\n",
              "  </thead>\n",
              "  <tbody>\n",
              "    <tr>\n",
              "      <th>14303</th>\n",
              "      <td>30-04-21</td>\n",
              "      <td>Andaman and Nicobar Islands</td>\n",
              "      <td>5643</td>\n",
              "      <td>67</td>\n",
              "      <td>5875</td>\n",
              "    </tr>\n",
              "    <tr>\n",
              "      <th>14304</th>\n",
              "      <td>30-04-21</td>\n",
              "      <td>Andhra Pradesh</td>\n",
              "      <td>962250</td>\n",
              "      <td>7928</td>\n",
              "      <td>1084336</td>\n",
              "    </tr>\n",
              "    <tr>\n",
              "      <th>14305</th>\n",
              "      <td>30-04-21</td>\n",
              "      <td>Arunachal Pradesh</td>\n",
              "      <td>17085</td>\n",
              "      <td>59</td>\n",
              "      <td>18256</td>\n",
              "    </tr>\n",
              "    <tr>\n",
              "      <th>14306</th>\n",
              "      <td>30-04-21</td>\n",
              "      <td>Assam</td>\n",
              "      <td>224194</td>\n",
              "      <td>1281</td>\n",
              "      <td>249926</td>\n",
              "    </tr>\n",
              "    <tr>\n",
              "      <th>14307</th>\n",
              "      <td>30-04-21</td>\n",
              "      <td>Bihar</td>\n",
              "      <td>351162</td>\n",
              "      <td>2480</td>\n",
              "      <td>454464</td>\n",
              "    </tr>\n",
              "    <tr>\n",
              "      <th>14308</th>\n",
              "      <td>30-04-21</td>\n",
              "      <td>Chandigarh</td>\n",
              "      <td>34806</td>\n",
              "      <td>465</td>\n",
              "      <td>41923</td>\n",
              "    </tr>\n",
              "    <tr>\n",
              "      <th>14309</th>\n",
              "      <td>30-04-21</td>\n",
              "      <td>Chhattisgarh</td>\n",
              "      <td>587484</td>\n",
              "      <td>8312</td>\n",
              "      <td>713706</td>\n",
              "    </tr>\n",
              "    <tr>\n",
              "      <th>14310</th>\n",
              "      <td>30-04-21</td>\n",
              "      <td>Dadra and Nagar Haveli and Daman and Diu</td>\n",
              "      <td>5249</td>\n",
              "      <td>4</td>\n",
              "      <td>7334</td>\n",
              "    </tr>\n",
              "    <tr>\n",
              "      <th>14311</th>\n",
              "      <td>30-04-21</td>\n",
              "      <td>Delhi</td>\n",
              "      <td>1008537</td>\n",
              "      <td>15772</td>\n",
              "      <td>1122286</td>\n",
              "    </tr>\n",
              "    <tr>\n",
              "      <th>14312</th>\n",
              "      <td>30-04-21</td>\n",
              "      <td>Goa</td>\n",
              "      <td>65984</td>\n",
              "      <td>1146</td>\n",
              "      <td>88028</td>\n",
              "    </tr>\n",
              "    <tr>\n",
              "      <th>14313</th>\n",
              "      <td>30-04-21</td>\n",
              "      <td>Gujarat</td>\n",
              "      <td>408368</td>\n",
              "      <td>7010</td>\n",
              "      <td>553172</td>\n",
              "    </tr>\n",
              "    <tr>\n",
              "      <th>14314</th>\n",
              "      <td>30-04-21</td>\n",
              "      <td>Haryana</td>\n",
              "      <td>376852</td>\n",
              "      <td>4118</td>\n",
              "      <td>474145</td>\n",
              "    </tr>\n",
              "    <tr>\n",
              "      <th>14315</th>\n",
              "      <td>30-04-21</td>\n",
              "      <td>Himachal Pradesh</td>\n",
              "      <td>77634</td>\n",
              "      <td>1460</td>\n",
              "      <td>96929</td>\n",
              "    </tr>\n",
              "    <tr>\n",
              "      <th>14316</th>\n",
              "      <td>30-04-21</td>\n",
              "      <td>Jammu and Kashmir</td>\n",
              "      <td>144154</td>\n",
              "      <td>2253</td>\n",
              "      <td>172551</td>\n",
              "    </tr>\n",
              "    <tr>\n",
              "      <th>14317</th>\n",
              "      <td>30-04-21</td>\n",
              "      <td>Jharkhand</td>\n",
              "      <td>169033</td>\n",
              "      <td>2540</td>\n",
              "      <td>227450</td>\n",
              "    </tr>\n",
              "    <tr>\n",
              "      <th>14318</th>\n",
              "      <td>30-04-21</td>\n",
              "      <td>Karnataka</td>\n",
              "      <td>1110025</td>\n",
              "      <td>15306</td>\n",
              "      <td>1474846</td>\n",
              "    </tr>\n",
              "    <tr>\n",
              "      <th>14319</th>\n",
              "      <td>30-04-21</td>\n",
              "      <td>Kerala</td>\n",
              "      <td>1244301</td>\n",
              "      <td>5259</td>\n",
              "      <td>1533984</td>\n",
              "    </tr>\n",
              "    <tr>\n",
              "      <th>14320</th>\n",
              "      <td>30-04-21</td>\n",
              "      <td>Ladakh</td>\n",
              "      <td>12129</td>\n",
              "      <td>140</td>\n",
              "      <td>13866</td>\n",
              "    </tr>\n",
              "    <tr>\n",
              "      <th>14321</th>\n",
              "      <td>30-04-21</td>\n",
              "      <td>Lakshadweep</td>\n",
              "      <td>1382</td>\n",
              "      <td>4</td>\n",
              "      <td>2662</td>\n",
              "    </tr>\n",
              "    <tr>\n",
              "      <th>14322</th>\n",
              "      <td>30-04-21</td>\n",
              "      <td>Madhya Pradesh</td>\n",
              "      <td>453331</td>\n",
              "      <td>5519</td>\n",
              "      <td>550927</td>\n",
              "    </tr>\n",
              "    <tr>\n",
              "      <th>14323</th>\n",
              "      <td>30-04-21</td>\n",
              "      <td>Maharashtra</td>\n",
              "      <td>3799266</td>\n",
              "      <td>67985</td>\n",
              "      <td>4539553</td>\n",
              "    </tr>\n",
              "    <tr>\n",
              "      <th>14324</th>\n",
              "      <td>30-04-21</td>\n",
              "      <td>Manipur</td>\n",
              "      <td>29690</td>\n",
              "      <td>400</td>\n",
              "      <td>31315</td>\n",
              "    </tr>\n",
              "    <tr>\n",
              "      <th>14325</th>\n",
              "      <td>30-04-21</td>\n",
              "      <td>Meghalaya</td>\n",
              "      <td>14917</td>\n",
              "      <td>169</td>\n",
              "      <td>16617</td>\n",
              "    </tr>\n",
              "    <tr>\n",
              "      <th>14326</th>\n",
              "      <td>30-04-21</td>\n",
              "      <td>Mizoram</td>\n",
              "      <td>4882</td>\n",
              "      <td>14</td>\n",
              "      <td>6019</td>\n",
              "    </tr>\n",
              "    <tr>\n",
              "      <th>14327</th>\n",
              "      <td>30-04-21</td>\n",
              "      <td>Nagaland</td>\n",
              "      <td>12577</td>\n",
              "      <td>100</td>\n",
              "      <td>13750</td>\n",
              "    </tr>\n",
              "    <tr>\n",
              "      <th>14328</th>\n",
              "      <td>30-04-21</td>\n",
              "      <td>Odisha</td>\n",
              "      <td>380400</td>\n",
              "      <td>2029</td>\n",
              "      <td>435513</td>\n",
              "    </tr>\n",
              "    <tr>\n",
              "      <th>14329</th>\n",
              "      <td>30-04-21</td>\n",
              "      <td>Puducherry</td>\n",
              "      <td>47645</td>\n",
              "      <td>793</td>\n",
              "      <td>57427</td>\n",
              "    </tr>\n",
              "    <tr>\n",
              "      <th>14330</th>\n",
              "      <td>30-04-21</td>\n",
              "      <td>Punjab</td>\n",
              "      <td>301047</td>\n",
              "      <td>8909</td>\n",
              "      <td>364910</td>\n",
              "    </tr>\n",
              "    <tr>\n",
              "      <th>14331</th>\n",
              "      <td>30-04-21</td>\n",
              "      <td>Rajasthan</td>\n",
              "      <td>407243</td>\n",
              "      <td>4084</td>\n",
              "      <td>580846</td>\n",
              "    </tr>\n",
              "    <tr>\n",
              "      <th>14332</th>\n",
              "      <td>30-04-21</td>\n",
              "      <td>Sikkim</td>\n",
              "      <td>6354</td>\n",
              "      <td>146</td>\n",
              "      <td>7747</td>\n",
              "    </tr>\n",
              "    <tr>\n",
              "      <th>14333</th>\n",
              "      <td>30-04-21</td>\n",
              "      <td>Tamil Nadu</td>\n",
              "      <td>1021575</td>\n",
              "      <td>13933</td>\n",
              "      <td>1148064</td>\n",
              "    </tr>\n",
              "    <tr>\n",
              "      <th>14334</th>\n",
              "      <td>30-04-21</td>\n",
              "      <td>Telangana</td>\n",
              "      <td>355618</td>\n",
              "      <td>2261</td>\n",
              "      <td>435606</td>\n",
              "    </tr>\n",
              "    <tr>\n",
              "      <th>14335</th>\n",
              "      <td>30-04-21</td>\n",
              "      <td>Tripura</td>\n",
              "      <td>33612</td>\n",
              "      <td>396</td>\n",
              "      <td>35169</td>\n",
              "    </tr>\n",
              "    <tr>\n",
              "      <th>14336</th>\n",
              "      <td>30-04-21</td>\n",
              "      <td>Uttarakhand</td>\n",
              "      <td>124046</td>\n",
              "      <td>2502</td>\n",
              "      <td>174867</td>\n",
              "    </tr>\n",
              "    <tr>\n",
              "      <th>14337</th>\n",
              "      <td>30-04-21</td>\n",
              "      <td>Uttar Pradesh</td>\n",
              "      <td>896477</td>\n",
              "      <td>12238</td>\n",
              "      <td>1217952</td>\n",
              "    </tr>\n",
              "    <tr>\n",
              "      <th>14338</th>\n",
              "      <td>30-04-21</td>\n",
              "      <td>West Bengal</td>\n",
              "      <td>689466</td>\n",
              "      <td>11248</td>\n",
              "      <td>810955</td>\n",
              "    </tr>\n",
              "  </tbody>\n",
              "</table>\n",
              "</div>"
            ],
            "text/plain": [
              "           Date                      State/UnionTerritory  ...  Deaths  Confirmed\n",
              "14303  30-04-21               Andaman and Nicobar Islands  ...      67       5875\n",
              "14304  30-04-21                            Andhra Pradesh  ...    7928    1084336\n",
              "14305  30-04-21                         Arunachal Pradesh  ...      59      18256\n",
              "14306  30-04-21                                     Assam  ...    1281     249926\n",
              "14307  30-04-21                                     Bihar  ...    2480     454464\n",
              "14308  30-04-21                                Chandigarh  ...     465      41923\n",
              "14309  30-04-21                              Chhattisgarh  ...    8312     713706\n",
              "14310  30-04-21  Dadra and Nagar Haveli and Daman and Diu  ...       4       7334\n",
              "14311  30-04-21                                     Delhi  ...   15772    1122286\n",
              "14312  30-04-21                                       Goa  ...    1146      88028\n",
              "14313  30-04-21                                   Gujarat  ...    7010     553172\n",
              "14314  30-04-21                                   Haryana  ...    4118     474145\n",
              "14315  30-04-21                          Himachal Pradesh  ...    1460      96929\n",
              "14316  30-04-21                         Jammu and Kashmir  ...    2253     172551\n",
              "14317  30-04-21                                 Jharkhand  ...    2540     227450\n",
              "14318  30-04-21                                 Karnataka  ...   15306    1474846\n",
              "14319  30-04-21                                    Kerala  ...    5259    1533984\n",
              "14320  30-04-21                                    Ladakh  ...     140      13866\n",
              "14321  30-04-21                               Lakshadweep  ...       4       2662\n",
              "14322  30-04-21                            Madhya Pradesh  ...    5519     550927\n",
              "14323  30-04-21                               Maharashtra  ...   67985    4539553\n",
              "14324  30-04-21                                   Manipur  ...     400      31315\n",
              "14325  30-04-21                                 Meghalaya  ...     169      16617\n",
              "14326  30-04-21                                   Mizoram  ...      14       6019\n",
              "14327  30-04-21                                  Nagaland  ...     100      13750\n",
              "14328  30-04-21                                    Odisha  ...    2029     435513\n",
              "14329  30-04-21                                Puducherry  ...     793      57427\n",
              "14330  30-04-21                                    Punjab  ...    8909     364910\n",
              "14331  30-04-21                                 Rajasthan  ...    4084     580846\n",
              "14332  30-04-21                                    Sikkim  ...     146       7747\n",
              "14333  30-04-21                                Tamil Nadu  ...   13933    1148064\n",
              "14334  30-04-21                                 Telangana  ...    2261     435606\n",
              "14335  30-04-21                                   Tripura  ...     396      35169\n",
              "14336  30-04-21                               Uttarakhand  ...    2502     174867\n",
              "14337  30-04-21                             Uttar Pradesh  ...   12238    1217952\n",
              "14338  30-04-21                               West Bengal  ...   11248     810955\n",
              "\n",
              "[36 rows x 5 columns]"
            ]
          },
          "metadata": {
            "tags": []
          },
          "execution_count": 9
        }
      ]
    },
    {
      "cell_type": "markdown",
      "metadata": {
        "id": "9ts9xucMqI45"
      },
      "source": [
        "## 1.Top 10 States with highest number of confirmed cases"
      ]
    },
    {
      "cell_type": "code",
      "metadata": {
        "id": "EZKVlsjMlIxG"
      },
      "source": [
        "x1_confirm = total_count_data.nlargest(10,\"Confirmed\")['State/UnionTerritory']\n",
        "y1_confirm = total_count_data.nlargest(10,\"Confirmed\")['Confirmed']"
      ],
      "execution_count": null,
      "outputs": []
    },
    {
      "cell_type": "code",
      "metadata": {
        "colab": {
          "base_uri": "https://localhost:8080/",
          "height": 638
        },
        "id": "T04Rp7nklfyA",
        "outputId": "b660c964-2ad7-4b86-d823-8e4ba59b39de"
      },
      "source": [
        "plt.figure(figsize=(15,10))\n",
        "plt.title(\"Top 10 States with Confirmed Cases\")\n",
        "bar_graph = sns.barplot(x = x1_confirm,y = y1_confirm,ci = None,dodge=False)\n",
        "bar_graph.set(ylabel = \"Confirmed Cases in Lakhs\")"
      ],
      "execution_count": null,
      "outputs": [
        {
          "output_type": "execute_result",
          "data": {
            "text/plain": [
              "[Text(0, 0.5, 'Confirmed Cases in Lakhs')]"
            ]
          },
          "metadata": {
            "tags": []
          },
          "execution_count": 11
        },
        {
          "output_type": "display_data",
          "data": {
            "image/png": "[encoded data removed]",
            "text/plain": [
              "<Figure size 1080x720 with 1 Axes>"
            ]
          },
          "metadata": {
            "tags": [],
            "needs_background": "light"
          }
        }
      ]
    },
    {
      "cell_type": "markdown",
      "metadata": {
        "id": "ejChBM6QqpSI"
      },
      "source": [
        "## 2. Top 10 states with highest number of death count"
      ]
    },
    {
      "cell_type": "code",
      "metadata": {
        "id": "CloHB8aloI14"
      },
      "source": [
        "x1_death_count = total_count_data.nlargest(10,\"Deaths\")['State/UnionTerritory']\n",
        "y1_death_count = total_count_data.nlargest(10,\"Deaths\")['Deaths']"
      ],
      "execution_count": null,
      "outputs": []
    },
    {
      "cell_type": "code",
      "metadata": {
        "colab": {
          "base_uri": "https://localhost:8080/",
          "height": 638
        },
        "id": "5aSFtAeirDct",
        "outputId": "748d4ba9-79c9-4741-b0b1-f9404f569db7"
      },
      "source": [
        "plt.figure(figsize=(15,10))\n",
        "plt.title(\"Top 10 States with Highest Death Count\")\n",
        "bar_graph = sns.barplot(x = x1_death_count,y = y1_death_count,ci = None,dodge=False)\n",
        "bar_graph.set(ylabel = \"Death Count\")"
      ],
      "execution_count": null,
      "outputs": [
        {
          "output_type": "execute_result",
          "data": {
            "text/plain": [
              "[Text(0, 0.5, 'Death Count')]"
            ]
          },
          "metadata": {
            "tags": []
          },
          "execution_count": 13
        },
        {
          "output_type": "display_data",
          "data": {
            "image/png": "[encoded data removed]",
            "text/plain": [
              "<Figure size 1080x720 with 1 Axes>"
            ]
          },
          "metadata": {
            "tags": [],
            "needs_background": "light"
          }
        }
      ]
    },
    {
      "cell_type": "markdown",
      "metadata": {
        "id": "Ot-59ygrr-V3"
      },
      "source": [
        "## Top 10 states with highest number of cured patients"
      ]
    },
    {
      "cell_type": "code",
      "metadata": {
        "id": "P1CSNGairzAp"
      },
      "source": [
        "x1_cured = total_count_data.nlargest(10,\"Cured\")['State/UnionTerritory']\n",
        "y1_cured = total_count_data.nlargest(10,\"Cured\")['Cured']"
      ],
      "execution_count": null,
      "outputs": []
    },
    {
      "cell_type": "code",
      "metadata": {
        "colab": {
          "base_uri": "https://localhost:8080/",
          "height": 638
        },
        "id": "Tddq46utr9M3",
        "outputId": "57d5ae28-e638-4fcc-dda0-126789c61be5"
      },
      "source": [
        "plt.figure(figsize=(15,10))\n",
        "plt.title(\"Top 10 States with Highest number of Cured Patients\")\n",
        "bar_graph = sns.barplot(x = x1_cured,y = y1_cured,ci = None,dodge=False)\n",
        "bar_graph.set(ylabel = \"Cured Patients Count in Lakhs\")"
      ],
      "execution_count": null,
      "outputs": [
        {
          "output_type": "execute_result",
          "data": {
            "text/plain": [
              "[Text(0, 0.5, 'Cured Patients Count in Lakhs')]"
            ]
          },
          "metadata": {
            "tags": []
          },
          "execution_count": 15
        },
        {
          "output_type": "display_data",
          "data": {
            "image/png": "[encoded data removed]",
            "text/plain": [
              "<Figure size 1080x720 with 1 Axes>"
            ]
          },
          "metadata": {
            "tags": [],
            "needs_background": "light"
          }
        }
      ]
    },
    {
      "cell_type": "markdown",
      "metadata": {
        "id": "U50q6go2VpOA"
      },
      "source": [
        "##Top 10 States with highest Death Rate."
      ]
    },
    {
      "cell_type": "code",
      "metadata": {
        "colab": {
          "base_uri": "https://localhost:8080/",
          "height": 1000
        },
        "id": "2fIcmjE_J7St",
        "outputId": "69cbf73b-b5cc-4e91-f034-81c3bb57f6f0"
      },
      "source": [
        "total_count_data[\"Death_percentage\"] = ((total_count_data[\"Deaths\"] / total_count_data[\"Confirmed\"]) * 100)\n",
        "total_count_data"
      ],
      "execution_count": null,
      "outputs": [
        {
          "output_type": "stream",
          "text": [
            "/usr/local/lib/python3.7/dist-packages/ipykernel_launcher.py:1: SettingWithCopyWarning: \n",
            "A value is trying to be set on a copy of a slice from a DataFrame.\n",
            "Try using .loc[row_indexer,col_indexer] = value instead\n",
            "\n",
            "See the caveats in the documentation: https://pandas.pydata.org/pandas-docs/stable/user_guide/indexing.html#returning-a-view-versus-a-copy\n",
            "  \"\"\"Entry point for launching an IPython kernel.\n"
          ],
          "name": "stderr"
        },
        {
          "output_type": "execute_result",
          "data": {
            "text/html": [
              "<div>\n",
              "<style scoped>\n",
              "    .dataframe tbody tr th:only-of-type {\n",
              "        vertical-align: middle;\n",
              "    }\n",
              "\n",
              "    .dataframe tbody tr th {\n",
              "        vertical-align: top;\n",
              "    }\n",
              "\n",
              "    .dataframe thead th {\n",
              "        text-align: right;\n",
              "    }\n",
              "</style>\n",
              "<table border=\"1\" class=\"dataframe\">\n",
              "  <thead>\n",
              "    <tr style=\"text-align: right;\">\n",
              "      <th></th>\n",
              "      <th>Date</th>\n",
              "      <th>State/UnionTerritory</th>\n",
              "      <th>Cured</th>\n",
              "      <th>Deaths</th>\n",
              "      <th>Confirmed</th>\n",
              "      <th>Death_percentage</th>\n",
              "    </tr>\n",
              "  </thead>\n",
              "  <tbody>\n",
              "    <tr>\n",
              "      <th>14303</th>\n",
              "      <td>30-04-21</td>\n",
              "      <td>Andaman and Nicobar Islands</td>\n",
              "      <td>5643</td>\n",
              "      <td>67</td>\n",
              "      <td>5875</td>\n",
              "      <td>1.140426</td>\n",
              "    </tr>\n",
              "    <tr>\n",
              "      <th>14304</th>\n",
              "      <td>30-04-21</td>\n",
              "      <td>Andhra Pradesh</td>\n",
              "      <td>962250</td>\n",
              "      <td>7928</td>\n",
              "      <td>1084336</td>\n",
              "      <td>0.731139</td>\n",
              "    </tr>\n",
              "    <tr>\n",
              "      <th>14305</th>\n",
              "      <td>30-04-21</td>\n",
              "      <td>Arunachal Pradesh</td>\n",
              "      <td>17085</td>\n",
              "      <td>59</td>\n",
              "      <td>18256</td>\n",
              "      <td>0.323181</td>\n",
              "    </tr>\n",
              "    <tr>\n",
              "      <th>14306</th>\n",
              "      <td>30-04-21</td>\n",
              "      <td>Assam</td>\n",
              "      <td>224194</td>\n",
              "      <td>1281</td>\n",
              "      <td>249926</td>\n",
              "      <td>0.512552</td>\n",
              "    </tr>\n",
              "    <tr>\n",
              "      <th>14307</th>\n",
              "      <td>30-04-21</td>\n",
              "      <td>Bihar</td>\n",
              "      <td>351162</td>\n",
              "      <td>2480</td>\n",
              "      <td>454464</td>\n",
              "      <td>0.545698</td>\n",
              "    </tr>\n",
              "    <tr>\n",
              "      <th>14308</th>\n",
              "      <td>30-04-21</td>\n",
              "      <td>Chandigarh</td>\n",
              "      <td>34806</td>\n",
              "      <td>465</td>\n",
              "      <td>41923</td>\n",
              "      <td>1.109176</td>\n",
              "    </tr>\n",
              "    <tr>\n",
              "      <th>14309</th>\n",
              "      <td>30-04-21</td>\n",
              "      <td>Chhattisgarh</td>\n",
              "      <td>587484</td>\n",
              "      <td>8312</td>\n",
              "      <td>713706</td>\n",
              "      <td>1.164625</td>\n",
              "    </tr>\n",
              "    <tr>\n",
              "      <th>14310</th>\n",
              "      <td>30-04-21</td>\n",
              "      <td>Dadra and Nagar Haveli and Daman and Diu</td>\n",
              "      <td>5249</td>\n",
              "      <td>4</td>\n",
              "      <td>7334</td>\n",
              "      <td>0.054540</td>\n",
              "    </tr>\n",
              "    <tr>\n",
              "      <th>14311</th>\n",
              "      <td>30-04-21</td>\n",
              "      <td>Delhi</td>\n",
              "      <td>1008537</td>\n",
              "      <td>15772</td>\n",
              "      <td>1122286</td>\n",
              "      <td>1.405346</td>\n",
              "    </tr>\n",
              "    <tr>\n",
              "      <th>14312</th>\n",
              "      <td>30-04-21</td>\n",
              "      <td>Goa</td>\n",
              "      <td>65984</td>\n",
              "      <td>1146</td>\n",
              "      <td>88028</td>\n",
              "      <td>1.301858</td>\n",
              "    </tr>\n",
              "    <tr>\n",
              "      <th>14313</th>\n",
              "      <td>30-04-21</td>\n",
              "      <td>Gujarat</td>\n",
              "      <td>408368</td>\n",
              "      <td>7010</td>\n",
              "      <td>553172</td>\n",
              "      <td>1.267237</td>\n",
              "    </tr>\n",
              "    <tr>\n",
              "      <th>14314</th>\n",
              "      <td>30-04-21</td>\n",
              "      <td>Haryana</td>\n",
              "      <td>376852</td>\n",
              "      <td>4118</td>\n",
              "      <td>474145</td>\n",
              "      <td>0.868511</td>\n",
              "    </tr>\n",
              "    <tr>\n",
              "      <th>14315</th>\n",
              "      <td>30-04-21</td>\n",
              "      <td>Himachal Pradesh</td>\n",
              "      <td>77634</td>\n",
              "      <td>1460</td>\n",
              "      <td>96929</td>\n",
              "      <td>1.506257</td>\n",
              "    </tr>\n",
              "    <tr>\n",
              "      <th>14316</th>\n",
              "      <td>30-04-21</td>\n",
              "      <td>Jammu and Kashmir</td>\n",
              "      <td>144154</td>\n",
              "      <td>2253</td>\n",
              "      <td>172551</td>\n",
              "      <td>1.305701</td>\n",
              "    </tr>\n",
              "    <tr>\n",
              "      <th>14317</th>\n",
              "      <td>30-04-21</td>\n",
              "      <td>Jharkhand</td>\n",
              "      <td>169033</td>\n",
              "      <td>2540</td>\n",
              "      <td>227450</td>\n",
              "      <td>1.116729</td>\n",
              "    </tr>\n",
              "    <tr>\n",
              "      <th>14318</th>\n",
              "      <td>30-04-21</td>\n",
              "      <td>Karnataka</td>\n",
              "      <td>1110025</td>\n",
              "      <td>15306</td>\n",
              "      <td>1474846</td>\n",
              "      <td>1.037803</td>\n",
              "    </tr>\n",
              "    <tr>\n",
              "      <th>14319</th>\n",
              "      <td>30-04-21</td>\n",
              "      <td>Kerala</td>\n",
              "      <td>1244301</td>\n",
              "      <td>5259</td>\n",
              "      <td>1533984</td>\n",
              "      <td>0.342833</td>\n",
              "    </tr>\n",
              "    <tr>\n",
              "      <th>14320</th>\n",
              "      <td>30-04-21</td>\n",
              "      <td>Ladakh</td>\n",
              "      <td>12129</td>\n",
              "      <td>140</td>\n",
              "      <td>13866</td>\n",
              "      <td>1.009664</td>\n",
              "    </tr>\n",
              "    <tr>\n",
              "      <th>14321</th>\n",
              "      <td>30-04-21</td>\n",
              "      <td>Lakshadweep</td>\n",
              "      <td>1382</td>\n",
              "      <td>4</td>\n",
              "      <td>2662</td>\n",
              "      <td>0.150263</td>\n",
              "    </tr>\n",
              "    <tr>\n",
              "      <th>14322</th>\n",
              "      <td>30-04-21</td>\n",
              "      <td>Madhya Pradesh</td>\n",
              "      <td>453331</td>\n",
              "      <td>5519</td>\n",
              "      <td>550927</td>\n",
              "      <td>1.001766</td>\n",
              "    </tr>\n",
              "    <tr>\n",
              "      <th>14323</th>\n",
              "      <td>30-04-21</td>\n",
              "      <td>Maharashtra</td>\n",
              "      <td>3799266</td>\n",
              "      <td>67985</td>\n",
              "      <td>4539553</td>\n",
              "      <td>1.497614</td>\n",
              "    </tr>\n",
              "    <tr>\n",
              "      <th>14324</th>\n",
              "      <td>30-04-21</td>\n",
              "      <td>Manipur</td>\n",
              "      <td>29690</td>\n",
              "      <td>400</td>\n",
              "      <td>31315</td>\n",
              "      <td>1.277343</td>\n",
              "    </tr>\n",
              "    <tr>\n",
              "      <th>14325</th>\n",
              "      <td>30-04-21</td>\n",
              "      <td>Meghalaya</td>\n",
              "      <td>14917</td>\n",
              "      <td>169</td>\n",
              "      <td>16617</td>\n",
              "      <td>1.017031</td>\n",
              "    </tr>\n",
              "    <tr>\n",
              "      <th>14326</th>\n",
              "      <td>30-04-21</td>\n",
              "      <td>Mizoram</td>\n",
              "      <td>4882</td>\n",
              "      <td>14</td>\n",
              "      <td>6019</td>\n",
              "      <td>0.232597</td>\n",
              "    </tr>\n",
              "    <tr>\n",
              "      <th>14327</th>\n",
              "      <td>30-04-21</td>\n",
              "      <td>Nagaland</td>\n",
              "      <td>12577</td>\n",
              "      <td>100</td>\n",
              "      <td>13750</td>\n",
              "      <td>0.727273</td>\n",
              "    </tr>\n",
              "    <tr>\n",
              "      <th>14328</th>\n",
              "      <td>30-04-21</td>\n",
              "      <td>Odisha</td>\n",
              "      <td>380400</td>\n",
              "      <td>2029</td>\n",
              "      <td>435513</td>\n",
              "      <td>0.465887</td>\n",
              "    </tr>\n",
              "    <tr>\n",
              "      <th>14329</th>\n",
              "      <td>30-04-21</td>\n",
              "      <td>Puducherry</td>\n",
              "      <td>47645</td>\n",
              "      <td>793</td>\n",
              "      <td>57427</td>\n",
              "      <td>1.380884</td>\n",
              "    </tr>\n",
              "    <tr>\n",
              "      <th>14330</th>\n",
              "      <td>30-04-21</td>\n",
              "      <td>Punjab</td>\n",
              "      <td>301047</td>\n",
              "      <td>8909</td>\n",
              "      <td>364910</td>\n",
              "      <td>2.441424</td>\n",
              "    </tr>\n",
              "    <tr>\n",
              "      <th>14331</th>\n",
              "      <td>30-04-21</td>\n",
              "      <td>Rajasthan</td>\n",
              "      <td>407243</td>\n",
              "      <td>4084</td>\n",
              "      <td>580846</td>\n",
              "      <td>0.703112</td>\n",
              "    </tr>\n",
              "    <tr>\n",
              "      <th>14332</th>\n",
              "      <td>30-04-21</td>\n",
              "      <td>Sikkim</td>\n",
              "      <td>6354</td>\n",
              "      <td>146</td>\n",
              "      <td>7747</td>\n",
              "      <td>1.884600</td>\n",
              "    </tr>\n",
              "    <tr>\n",
              "      <th>14333</th>\n",
              "      <td>30-04-21</td>\n",
              "      <td>Tamil Nadu</td>\n",
              "      <td>1021575</td>\n",
              "      <td>13933</td>\n",
              "      <td>1148064</td>\n",
              "      <td>1.213608</td>\n",
              "    </tr>\n",
              "    <tr>\n",
              "      <th>14334</th>\n",
              "      <td>30-04-21</td>\n",
              "      <td>Telangana</td>\n",
              "      <td>355618</td>\n",
              "      <td>2261</td>\n",
              "      <td>435606</td>\n",
              "      <td>0.519047</td>\n",
              "    </tr>\n",
              "    <tr>\n",
              "      <th>14335</th>\n",
              "      <td>30-04-21</td>\n",
              "      <td>Tripura</td>\n",
              "      <td>33612</td>\n",
              "      <td>396</td>\n",
              "      <td>35169</td>\n",
              "      <td>1.125992</td>\n",
              "    </tr>\n",
              "    <tr>\n",
              "      <th>14336</th>\n",
              "      <td>30-04-21</td>\n",
              "      <td>Uttarakhand</td>\n",
              "      <td>124046</td>\n",
              "      <td>2502</td>\n",
              "      <td>174867</td>\n",
              "      <td>1.430802</td>\n",
              "    </tr>\n",
              "    <tr>\n",
              "      <th>14337</th>\n",
              "      <td>30-04-21</td>\n",
              "      <td>Uttar Pradesh</td>\n",
              "      <td>896477</td>\n",
              "      <td>12238</td>\n",
              "      <td>1217952</td>\n",
              "      <td>1.004802</td>\n",
              "    </tr>\n",
              "    <tr>\n",
              "      <th>14338</th>\n",
              "      <td>30-04-21</td>\n",
              "      <td>West Bengal</td>\n",
              "      <td>689466</td>\n",
              "      <td>11248</td>\n",
              "      <td>810955</td>\n",
              "      <td>1.387007</td>\n",
              "    </tr>\n",
              "  </tbody>\n",
              "</table>\n",
              "</div>"
            ],
            "text/plain": [
              "           Date  ... Death_percentage\n",
              "14303  30-04-21  ...         1.140426\n",
              "14304  30-04-21  ...         0.731139\n",
              "14305  30-04-21  ...         0.323181\n",
              "14306  30-04-21  ...         0.512552\n",
              "14307  30-04-21  ...         0.545698\n",
              "14308  30-04-21  ...         1.109176\n",
              "14309  30-04-21  ...         1.164625\n",
              "14310  30-04-21  ...         0.054540\n",
              "14311  30-04-21  ...         1.405346\n",
              "14312  30-04-21  ...         1.301858\n",
              "14313  30-04-21  ...         1.267237\n",
              "14314  30-04-21  ...         0.868511\n",
              "14315  30-04-21  ...         1.506257\n",
              "14316  30-04-21  ...         1.305701\n",
              "14317  30-04-21  ...         1.116729\n",
              "14318  30-04-21  ...         1.037803\n",
              "14319  30-04-21  ...         0.342833\n",
              "14320  30-04-21  ...         1.009664\n",
              "14321  30-04-21  ...         0.150263\n",
              "14322  30-04-21  ...         1.001766\n",
              "14323  30-04-21  ...         1.497614\n",
              "14324  30-04-21  ...         1.277343\n",
              "14325  30-04-21  ...         1.017031\n",
              "14326  30-04-21  ...         0.232597\n",
              "14327  30-04-21  ...         0.727273\n",
              "14328  30-04-21  ...         0.465887\n",
              "14329  30-04-21  ...         1.380884\n",
              "14330  30-04-21  ...         2.441424\n",
              "14331  30-04-21  ...         0.703112\n",
              "14332  30-04-21  ...         1.884600\n",
              "14333  30-04-21  ...         1.213608\n",
              "14334  30-04-21  ...         0.519047\n",
              "14335  30-04-21  ...         1.125992\n",
              "14336  30-04-21  ...         1.430802\n",
              "14337  30-04-21  ...         1.004802\n",
              "14338  30-04-21  ...         1.387007\n",
              "\n",
              "[36 rows x 6 columns]"
            ]
          },
          "metadata": {
            "tags": []
          },
          "execution_count": 16
        }
      ]
    },
    {
      "cell_type": "code",
      "metadata": {
        "id": "qm2nmwZjL_YW"
      },
      "source": [
        "death_rate = total_count_data.nlargest(10,\"Death_percentage\")['Death_percentage']\n",
        "death_rate_label = total_count_data.nlargest(10,\"Death_percentage\")['State/UnionTerritory']"
      ],
      "execution_count": null,
      "outputs": []
    },
    {
      "cell_type": "code",
      "metadata": {
        "colab": {
          "base_uri": "https://localhost:8080/",
          "height": 466
        },
        "id": "Lmp0MBuKMPcq",
        "outputId": "b1c78350-b691-4823-a009-903d29530988"
      },
      "source": [
        "plt.figure(figsize =(10, 8))\n",
        "plt.pie(death_rate,labels = death_rate_label,autopct='%1.2f%%')\n",
        "plt.show()"
      ],
      "execution_count": null,
      "outputs": [
        {
          "output_type": "display_data",
          "data": {
            "image/png": "[encoded data removed]",
            "text/plain": [
              "<Figure size 720x576 with 1 Axes>"
            ]
          },
          "metadata": {
            "tags": []
          }
        }
      ]
    }
  ]
}